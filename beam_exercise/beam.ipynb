{
 "cells": [
  {
   "cell_type": "markdown",
   "id": "fb_ZuW34AwdZ",
   "metadata": {
    "id": "fb_ZuW34AwdZ"
   },
   "source": [
    "**Professor J. Morlier**\n",
    "\n",
    "Example from \t\n",
    "Machine learning for (meta-)materials design Dr. Sid Kumar \n",
    "Delft University of Technology"
   ]
  },
  {
   "cell_type": "code",
   "execution_count": 1,
   "id": "ee13960c",
   "metadata": {},
   "outputs": [
    {
     "name": "stdout",
     "output_type": "stream",
     "text": [
      "Collecting pandas\n",
      "  Downloading pandas-2.2.3-cp310-cp310-manylinux_2_17_x86_64.manylinux2014_x86_64.whl (13.1 MB)\n",
      "\u001b[2K     \u001b[38;2;114;156;31m━━━━━━━━━━━━━━━━━━━━━━━━━━━━━━━━━━━━━━━━\u001b[0m \u001b[32m13.1/13.1 MB\u001b[0m \u001b[31m2.0 MB/s\u001b[0m eta \u001b[36m0:00:00\u001b[0mm eta \u001b[36m0:00:01\u001b[0m[36m0:00:01\u001b[0m\n",
      "\u001b[?25hCollecting tzdata>=2022.7\n",
      "  Downloading tzdata-2025.1-py2.py3-none-any.whl (346 kB)\n",
      "\u001b[2K     \u001b[38;2;114;156;31m━━━━━━━━━━━━━━━━━━━━━━━━━━━━━━━━━━━━━━━\u001b[0m \u001b[32m346.8/346.8 KB\u001b[0m \u001b[31m2.1 MB/s\u001b[0m eta \u001b[36m0:00:00\u001b[0m[36m0:00:01\u001b[0mm eta \u001b[36m0:00:01\u001b[0m\n",
      "\u001b[?25hRequirement already satisfied: numpy>=1.22.4 in /home/dmsm/a.brugnoli/Apps/venv_smt/lib/python3.10/site-packages (from pandas) (2.2.3)\n",
      "Collecting pytz>=2020.1\n",
      "  Downloading pytz-2025.1-py2.py3-none-any.whl (507 kB)\n",
      "\u001b[2K     \u001b[38;2;114;156;31m━━━━━━━━━━━━━━━━━━━━━━━━━━━━━━━━━━━━━━━\u001b[0m \u001b[32m507.9/507.9 KB\u001b[0m \u001b[31m2.1 MB/s\u001b[0m eta \u001b[36m0:00:00\u001b[0m[31m2.3 MB/s\u001b[0m eta \u001b[36m0:00:01\u001b[0m\n",
      "\u001b[?25hRequirement already satisfied: python-dateutil>=2.8.2 in /home/dmsm/a.brugnoli/Apps/venv_smt/lib/python3.10/site-packages (from pandas) (2.9.0.post0)\n",
      "Requirement already satisfied: six>=1.5 in /home/dmsm/a.brugnoli/Apps/venv_smt/lib/python3.10/site-packages (from python-dateutil>=2.8.2->pandas) (1.17.0)\n",
      "Installing collected packages: pytz, tzdata, pandas\n",
      "Successfully installed pandas-2.2.3 pytz-2025.1 tzdata-2025.1\n",
      "Note: you may need to restart the kernel to use updated packages.\n"
     ]
    }
   ],
   "source": [
    "%pip install pandas"
   ]
  },
  {
   "cell_type": "code",
   "execution_count": 2,
   "id": "ccca0615-5051-48f4-bf45-334aa48daa47",
   "metadata": {
    "id": "ccca0615-5051-48f4-bf45-334aa48daa47"
   },
   "outputs": [],
   "source": [
    "# imports:  \n",
    "import torch\n",
    "import numpy as np\n",
    "import matplotlib.pyplot as plt\n",
    "torch.manual_seed(0);\n",
    "import pandas as pd"
   ]
  },
  {
   "cell_type": "markdown",
   "id": "7cd82c42-36ac-4d3a-91b4-451849ba501d",
   "metadata": {
    "id": "7cd82c42-36ac-4d3a-91b4-451849ba501d"
   },
   "source": [
    "![beam](image_beam.png)"
   ]
  },
  {
   "cell_type": "markdown",
   "id": "9e95fad7-2c2b-463d-a9aa-966f9a40e6a8",
   "metadata": {
    "id": "9e95fad7-2c2b-463d-a9aa-966f9a40e6a8"
   },
   "source": [
    "### Input: \n",
    "$F\\ [\\text{N}], L\\ [\\text{m}], E\\ [\\text{GPa}], I\\ [\\text{cm}^4]$\n",
    "\n",
    "### Output: \n",
    "$\\delta\\ [\\text{mm}], \\theta\\ [^\\circ]$"
   ]
  },
  {
   "cell_type": "code",
   "execution_count": 5,
   "id": "14902274-1ee7-49a7-bd2b-0626c4ac83c5",
   "metadata": {
    "id": "14902274-1ee7-49a7-bd2b-0626c4ac83c5"
   },
   "outputs": [
    {
     "data": {
      "text/html": [
       "<div>\n",
       "<style scoped>\n",
       "    .dataframe tbody tr th:only-of-type {\n",
       "        vertical-align: middle;\n",
       "    }\n",
       "\n",
       "    .dataframe tbody tr th {\n",
       "        vertical-align: top;\n",
       "    }\n",
       "\n",
       "    .dataframe thead th {\n",
       "        text-align: right;\n",
       "    }\n",
       "</style>\n",
       "<table border=\"1\" class=\"dataframe\">\n",
       "  <thead>\n",
       "    <tr style=\"text-align: right;\">\n",
       "      <th></th>\n",
       "      <th>Unnamed: 0</th>\n",
       "      <th>F</th>\n",
       "      <th>L</th>\n",
       "      <th>E</th>\n",
       "      <th>I</th>\n",
       "      <th>delta</th>\n",
       "      <th>theta</th>\n",
       "    </tr>\n",
       "  </thead>\n",
       "  <tbody>\n",
       "    <tr>\n",
       "      <th>0</th>\n",
       "      <td>0</td>\n",
       "      <td>4332.0460</td>\n",
       "      <td>9.743647</td>\n",
       "      <td>149.62566</td>\n",
       "      <td>13769.5790</td>\n",
       "      <td>64.835020</td>\n",
       "      <td>0.571876</td>\n",
       "    </tr>\n",
       "    <tr>\n",
       "      <th>1</th>\n",
       "      <td>1</td>\n",
       "      <td>3768.7124</td>\n",
       "      <td>7.837019</td>\n",
       "      <td>176.82217</td>\n",
       "      <td>7472.7240</td>\n",
       "      <td>45.762386</td>\n",
       "      <td>0.501847</td>\n",
       "    </tr>\n",
       "    <tr>\n",
       "      <th>2</th>\n",
       "      <td>2</td>\n",
       "      <td>3728.9172</td>\n",
       "      <td>10.387497</td>\n",
       "      <td>108.84774</td>\n",
       "      <td>6640.5680</td>\n",
       "      <td>192.739000</td>\n",
       "      <td>1.594676</td>\n",
       "    </tr>\n",
       "    <tr>\n",
       "      <th>3</th>\n",
       "      <td>3</td>\n",
       "      <td>4275.6396</td>\n",
       "      <td>6.315188</td>\n",
       "      <td>113.20305</td>\n",
       "      <td>11324.9160</td>\n",
       "      <td>27.999197</td>\n",
       "      <td>0.381042</td>\n",
       "    </tr>\n",
       "    <tr>\n",
       "      <th>4</th>\n",
       "      <td>4</td>\n",
       "      <td>4434.5146</td>\n",
       "      <td>10.639669</td>\n",
       "      <td>130.74228</td>\n",
       "      <td>7858.1377</td>\n",
       "      <td>173.290020</td>\n",
       "      <td>1.399779</td>\n",
       "    </tr>\n",
       "  </tbody>\n",
       "</table>\n",
       "</div>"
      ],
      "text/plain": [
       "   Unnamed: 0          F          L          E           I       delta  \\\n",
       "0           0  4332.0460   9.743647  149.62566  13769.5790   64.835020   \n",
       "1           1  3768.7124   7.837019  176.82217   7472.7240   45.762386   \n",
       "2           2  3728.9172  10.387497  108.84774   6640.5680  192.739000   \n",
       "3           3  4275.6396   6.315188  113.20305  11324.9160   27.999197   \n",
       "4           4  4434.5146  10.639669  130.74228   7858.1377  173.290020   \n",
       "\n",
       "      theta  \n",
       "0  0.571876  \n",
       "1  0.501847  \n",
       "2  1.594676  \n",
       "3  0.381042  \n",
       "4  1.399779  "
      ]
     },
     "execution_count": 5,
     "metadata": {},
     "output_type": "execute_result"
    }
   ],
   "source": [
    "# Load data from .csv file using pandas (Review the code yourself)\n",
    "file_csv_train = './beam_exercise/data-3AB-train.csv'\n",
    "df = pd.read_csv(file_csv_train)\n",
    "df.head()\n"
   ]
  },
  {
   "cell_type": "code",
   "execution_count": 6,
   "id": "45f8a00f",
   "metadata": {},
   "outputs": [],
   "source": [
    "# Define train data (tip: convert df values to float: .astype(np.float32))\n",
    "\n",
    "x_train = torch.tensor(df[['F','L','E','I']].astype(np.float32).values)\n",
    "x_train = x_train[0::2]\n",
    "\n",
    "y_train = torch.tensor(df[['delta','theta']].astype(np.float32).values)\n",
    "y_train=y_train[0::2]"
   ]
  },
  {
   "cell_type": "code",
   "execution_count": 7,
   "id": "209cf1e0",
   "metadata": {},
   "outputs": [
    {
     "data": {
      "text/html": [
       "<div>\n",
       "<style scoped>\n",
       "    .dataframe tbody tr th:only-of-type {\n",
       "        vertical-align: middle;\n",
       "    }\n",
       "\n",
       "    .dataframe tbody tr th {\n",
       "        vertical-align: top;\n",
       "    }\n",
       "\n",
       "    .dataframe thead th {\n",
       "        text-align: right;\n",
       "    }\n",
       "</style>\n",
       "<table border=\"1\" class=\"dataframe\">\n",
       "  <thead>\n",
       "    <tr style=\"text-align: right;\">\n",
       "      <th></th>\n",
       "      <th>Unnamed: 0</th>\n",
       "      <th>F</th>\n",
       "      <th>L</th>\n",
       "      <th>E</th>\n",
       "      <th>I</th>\n",
       "      <th>delta</th>\n",
       "      <th>theta</th>\n",
       "    </tr>\n",
       "  </thead>\n",
       "  <tbody>\n",
       "    <tr>\n",
       "      <th>0</th>\n",
       "      <td>0</td>\n",
       "      <td>4516.9890</td>\n",
       "      <td>8.244241</td>\n",
       "      <td>191.636600</td>\n",
       "      <td>8841.7050</td>\n",
       "      <td>49.792652</td>\n",
       "      <td>0.519073</td>\n",
       "    </tr>\n",
       "    <tr>\n",
       "      <th>1</th>\n",
       "      <td>1</td>\n",
       "      <td>4269.4453</td>\n",
       "      <td>9.690850</td>\n",
       "      <td>155.663670</td>\n",
       "      <td>8085.7340</td>\n",
       "      <td>102.903270</td>\n",
       "      <td>0.912601</td>\n",
       "    </tr>\n",
       "    <tr>\n",
       "      <th>2</th>\n",
       "      <td>2</td>\n",
       "      <td>2629.9240</td>\n",
       "      <td>10.303864</td>\n",
       "      <td>102.867850</td>\n",
       "      <td>11772.0200</td>\n",
       "      <td>79.193886</td>\n",
       "      <td>0.660550</td>\n",
       "    </tr>\n",
       "    <tr>\n",
       "      <th>3</th>\n",
       "      <td>3</td>\n",
       "      <td>3858.4973</td>\n",
       "      <td>9.092241</td>\n",
       "      <td>164.992510</td>\n",
       "      <td>8435.7580</td>\n",
       "      <td>69.457860</td>\n",
       "      <td>0.656545</td>\n",
       "    </tr>\n",
       "    <tr>\n",
       "      <th>4</th>\n",
       "      <td>4</td>\n",
       "      <td>3438.8110</td>\n",
       "      <td>10.044767</td>\n",
       "      <td>117.809326</td>\n",
       "      <td>5665.3403</td>\n",
       "      <td>174.060840</td>\n",
       "      <td>1.489275</td>\n",
       "    </tr>\n",
       "  </tbody>\n",
       "</table>\n",
       "</div>"
      ],
      "text/plain": [
       "   Unnamed: 0          F          L           E           I       delta  \\\n",
       "0           0  4516.9890   8.244241  191.636600   8841.7050   49.792652   \n",
       "1           1  4269.4453   9.690850  155.663670   8085.7340  102.903270   \n",
       "2           2  2629.9240  10.303864  102.867850  11772.0200   79.193886   \n",
       "3           3  3858.4973   9.092241  164.992510   8435.7580   69.457860   \n",
       "4           4  3438.8110  10.044767  117.809326   5665.3403  174.060840   \n",
       "\n",
       "      theta  \n",
       "0  0.519073  \n",
       "1  0.912601  \n",
       "2  0.660550  \n",
       "3  0.656545  \n",
       "4  1.489275  "
      ]
     },
     "execution_count": 7,
     "metadata": {},
     "output_type": "execute_result"
    }
   ],
   "source": [
    "url = './beam_exercise/data-3AB-test.csv'\n",
    "df = pd.read_csv(url)\n",
    "df.head()"
   ]
  },
  {
   "cell_type": "code",
   "execution_count": 8,
   "id": "edd99502-56b4-4803-b250-12c51dfd193d",
   "metadata": {
    "id": "edd99502-56b4-4803-b250-12c51dfd193d",
    "outputId": "e27fc88b-cb2b-484e-c828-912982691bcc"
   },
   "outputs": [],
   "source": [
    "# Define test data (tip: convert df values to float: .astype(np.float32))\n",
    "x_test = torch.tensor(df[['F','L','E','I']].astype(np.float32).values)\n",
    "y_test = torch.tensor(df[['delta','theta']].astype(np.float32).values)"
   ]
  },
  {
   "cell_type": "markdown",
   "id": "1b1df225-5f6c-4fe5-b288-98ca1a409ec2",
   "metadata": {
    "id": "1b1df225-5f6c-4fe5-b288-98ca1a409ec2"
   },
   "source": [
    "## Visualize your data!"
   ]
  },
  {
   "cell_type": "code",
   "execution_count": 9,
   "id": "5b80f0b2-ebfd-4dad-ad56-77d162b7bb97",
   "metadata": {
    "colab": {
     "base_uri": "https://localhost:8080/"
    },
    "id": "5b80f0b2-ebfd-4dad-ad56-77d162b7bb97",
    "outputId": "f5856397-dd15-4f4c-a51c-666308352696"
   },
   "outputs": [
    {
     "data": {
      "text/plain": [
       "torch.Size([1000, 4])"
      ]
     },
     "execution_count": 9,
     "metadata": {},
     "output_type": "execute_result"
    }
   ],
   "source": [
    "# Check x-data shape\n",
    "# Please comment the data\n",
    "x_train.shape"
   ]
  },
  {
   "cell_type": "code",
   "execution_count": 10,
   "id": "600e1ce9-46fd-49e5-8b2a-10c13290de81",
   "metadata": {
    "colab": {
     "base_uri": "https://localhost:8080/",
     "height": 336
    },
    "id": "600e1ce9-46fd-49e5-8b2a-10c13290de81",
    "outputId": "1a2a1c27-dc15-4293-e133-0d51d878a46c"
   },
   "outputs": [
    {
     "data": {
      "image/png": "[encoded data removed]",
      "text/plain": [
       "<Figure size 2000x500 with 4 Axes>"
      ]
     },
     "metadata": {},
     "output_type": "display_data"
    }
   ],
   "source": [
    "fig, axes = plt.subplots(1, 4, figsize=(20, 5))\n",
    "axes[0].hist(x_train[:,0].detach().numpy(),density=True); axes[0].set_title('F');\n",
    "axes[1].hist(x_train[:,1].detach().numpy(),density=True); axes[1].set_title('L');\n",
    "axes[2].hist(x_train[:,2].detach().numpy(),density=True); axes[2].set_title('E');\n",
    "axes[3].hist(x_train[:,3].detach().numpy(),density=True); axes[3].set_title('I');"
   ]
  },
  {
   "cell_type": "markdown",
   "id": "7460dd78",
   "metadata": {},
   "source": [
    "What do you think about the values of different variables?"
   ]
  },
  {
   "cell_type": "code",
   "execution_count": null,
   "id": "c8c84a60-a6c0-4566-a7ad-7f2d37f27118",
   "metadata": {
    "colab": {
     "base_uri": "https://localhost:8080/"
    },
    "id": "c8c84a60-a6c0-4566-a7ad-7f2d37f27118",
    "outputId": "13aa18da-c1cb-43f2-9f06-94251b2c4ce6"
   },
   "outputs": [],
   "source": [
    "# Check y-data shape\n",
    "y_train.shape"
   ]
  },
  {
   "cell_type": "code",
   "execution_count": 11,
   "id": "8ec86109-395c-4641-bea7-ce207007edb0",
   "metadata": {
    "colab": {
     "base_uri": "https://localhost:8080/",
     "height": 336
    },
    "id": "8ec86109-395c-4641-bea7-ce207007edb0",
    "outputId": "9053ac37-fa39-44d2-c256-62aafe0c732b"
   },
   "outputs": [
    {
     "data": {
      "image/png": "[encoded data removed]",
      "text/plain": [
       "<Figure size 1000x500 with 2 Axes>"
      ]
     },
     "metadata": {},
     "output_type": "display_data"
    }
   ],
   "source": [
    "fig, axes = plt.subplots(1, 2, figsize=(10, 5))\n",
    "axes[0].hist(y_train[:,0].detach().numpy(),density=True,color='orange'); axes[0].set_title('delta');\n",
    "axes[1].hist(y_train[:,1].detach().numpy(),density=True,color='orange'); axes[1].set_title('theta');"
   ]
  },
  {
   "cell_type": "markdown",
   "id": "f813c101-22e6-492f-b07b-c0986f9ee8ab",
   "metadata": {
    "id": "f813c101-22e6-492f-b07b-c0986f9ee8ab"
   },
   "source": [
    "## Normalize your data\n"
   ]
  },
  {
   "cell_type": "markdown",
   "id": "f28463ea",
   "metadata": {},
   "source": [
    "Normalization is an important step for scale consistency."
   ]
  },
  {
   "cell_type": "code",
   "execution_count": 12,
   "id": "16705b9f-7741-4b1c-a91f-97c4a965c0f9",
   "metadata": {
    "id": "16705b9f-7741-4b1c-a91f-97c4a965c0f9"
   },
   "outputs": [],
   "source": [
    "class Normalization:\n",
    "    def __init__(self,data):\n",
    "        \n",
    "        # empty list of min and max values of each column\n",
    "        self.min_values = []\n",
    "        self.max_values = []\n",
    "        \n",
    "        # find min and max of each column and store in lists\n",
    "        for i in range(data.shape[1]):\n",
    "            self.min_values.append(torch.min(data[:,i]))\n",
    "            self.max_values.append(torch.max(data[:,i]))\n",
    "        \n",
    "    def normalize(self, data):\n",
    "        \n",
    "        # clone the data before modification\n",
    "        normalized_data = data.clone()\n",
    "        \n",
    "        #iterate over all columns\n",
    "        for i in range(0, data.shape[1]):\n",
    "            \n",
    "            # z = a+b*z', where z' in [-1,1] is normalized data\n",
    "            # min_z = a-b, when z'=-1\n",
    "            # max_z = a+b, when z'=1\n",
    "            # normalize each column between values 0 and 1 range\n",
    "            a = (self.max_values[i]+self.min_values[i])/2.\n",
    "            b = (self.max_values[i]-self.min_values[i])/2.\n",
    "            normalized_data[:,i] = (data[:,i]-a)/b\n",
    "        \n",
    "        # return\n",
    "        return normalized_data\n",
    "    \n",
    "    def unnormalize(self, data):\n",
    "        \n",
    "        # clone the data before modification\n",
    "        unnormalized_data = data.clone()\n",
    "        \n",
    "        #iterate over all columns\n",
    "        for i in range(0, data.shape[1]):            \n",
    "            \n",
    "            # z = a+b*z', where z' in [-1,1] is normalized data\n",
    "            # min_z = a-b, when z'=-1\n",
    "            # max_z = a+b, when z'=1\n",
    "            # unnormalize each column to original range\n",
    "            a = (self.max_values[i]+self.min_values[i])/2.\n",
    "            b = (self.max_values[i]-self.min_values[i])/2.\n",
    "            unnormalized_data[:,i] = a + b*data[:,i]          \n",
    "            \n",
    "        # return\n",
    "        return unnormalized_data\n"
   ]
  },
  {
   "cell_type": "code",
   "execution_count": 13,
   "id": "70845995-8f13-4f21-a102-d18a0448a9be",
   "metadata": {
    "id": "70845995-8f13-4f21-a102-d18a0448a9be"
   },
   "outputs": [],
   "source": [
    "# Always use TRAINING DATA ONLY for identifying min and max values for normalization\n",
    "x_normalization = Normalization(x_train)\n",
    "y_normalization = Normalization(y_train)\n",
    "\n",
    "# Normalize both training and test data\n",
    "x_train = x_normalization.normalize(x_train)\n",
    "x_test = x_normalization.normalize(x_test)\n",
    "\n",
    "y_train = y_normalization.normalize(y_train)\n",
    "y_test = y_normalization.normalize(y_test)"
   ]
  },
  {
   "cell_type": "code",
   "execution_count": 14,
   "id": "ad3b797e-d11a-42ab-bdf7-fd34518dcd84",
   "metadata": {
    "colab": {
     "base_uri": "https://localhost:8080/",
     "height": 255
    },
    "id": "ad3b797e-d11a-42ab-bdf7-fd34518dcd84",
    "outputId": "4be75d95-fb51-42a2-8a6f-05f73c6a0fa9"
   },
   "outputs": [
    {
     "data": {
      "image/png": "[encoded data removed]",
      "text/plain": [
       "<Figure size 3000x500 with 6 Axes>"
      ]
     },
     "metadata": {},
     "output_type": "display_data"
    }
   ],
   "source": [
    "# Visualize the normalized data\n",
    "fig, axes = plt.subplots(1, 6, figsize=(30, 5))\n",
    "axes[0].hist(x_train[:,0].detach().numpy(),density=True); axes[0].set_title('F');\n",
    "axes[1].hist(x_train[:,1].detach().numpy(),density=True); axes[1].set_title('L');\n",
    "axes[2].hist(x_train[:,2].detach().numpy(),density=True); axes[2].set_title('E');\n",
    "axes[3].hist(x_train[:,3].detach().numpy(),density=True); axes[3].set_title('I');\n",
    "axes[4].hist(y_train[:,0].detach().numpy(),density=True,color='orange'); axes[4].set_title('delta');\n",
    "axes[5].hist(y_train[:,1].detach().numpy(),density=True,color='orange'); axes[5].set_title('theta');"
   ]
  },
  {
   "cell_type": "markdown",
   "id": "73f59af1",
   "metadata": {},
   "source": [
    "## Traning the neural network"
   ]
  },
  {
   "cell_type": "code",
   "execution_count": null,
   "id": "f9c2e3f0-3e9f-4e28-b57f-5abcddb1d61a",
   "metadata": {
    "id": "f9c2e3f0-3e9f-4e28-b57f-5abcddb1d61a"
   },
   "outputs": [],
   "source": [
    "class NN(torch.nn.Module):\n",
    "    def __init__(self):\n",
    "        super(NN, self).__init__()\n",
    "        self.layer1 = torch.nn.Linear(4,10)\n",
    "        self.layer2 = torch.nn.Linear(10,10)\n",
    "        self.layer3 = torch.nn.Linear(10,2)\n",
    "        \n",
    "    def forward(self, x):\n",
    "        x = torch.nn.functional.relu(self.layer1(x))\n",
    "        x = torch.nn.functional.relu(self.layer2(x))\n",
    "        x = self.layer3(x)\n",
    "        return x\n",
    "\n",
    "model = NN()\n",
    "# Define an empty list to store loss history\n",
    "train_loss_history = []\n",
    "test_loss_history = []\n",
    "\n",
    "# Learning rate\n",
    "lr = 0.01\n",
    "\n",
    "# Optimizer: use Adam\n",
    "optimizer = torch.optim.Adam(model.parameters(), lr=lr)\n",
    "\n",
    "# Loss function: use the MEAN SQUARED ERROR (MSE) as loss\n",
    "loss_function = torch.nn.MSELoss()\n",
    "\n",
    "# Number of epochs\n",
    "num_epochs = 5000\n",
    "\n",
    "# begin iterating over epochs\n",
    "for epoch in range(num_epochs):\n",
    "    \n",
    "    # Make your predictions, USE TRAINING DATA ONLY!!\n",
    "    y_train_pred = model(x_train)\n",
    "    \n",
    "    # Compute the loss. \n",
    "    train_loss = loss_function(y_train_pred, y_train)\n",
    "    \n",
    "    \n",
    "    # store the loss in a list\n",
    "    train_loss_history.append(train_loss.detach().item())\n",
    "    \n",
    "    \n",
    "    # Call .backward() on loss to compute gradient (d_loss/d_a)\n",
    "    train_loss.backward()\n",
    "    \n",
    "    # Update the model paramaeters\n",
    "    # No need for torch.no_grad() anymore with in-built optimizers\n",
    "    optimizer.step()\n",
    "    \n",
    "    # remove any pre-exisitng gradients stored\n",
    "    optimizer.zero_grad()\n",
    "    \n",
    "    # We also track the loss on test data but don't use that information for training (just for monitoring purpose)\n",
    "    with torch.no_grad(): #torch.no_grad() is back because we don't train on test data and so don't need gradients\n",
    "        # Make your predictions\n",
    "        y_test_pred = model(x_test)\n",
    "        \n",
    "        # Compute the loss.\n",
    "        test_loss = loss_function(y_test_pred, y_test)\n",
    "        \n",
    "        \n",
    "        # store the loss in a list\n",
    "        test_loss_history.append(test_loss.detach().item())"
   ]
  },
  {
   "cell_type": "code",
   "execution_count": null,
   "id": "3fb3e4ca-97da-40b7-b965-9aeddeaa366a",
   "metadata": {
    "colab": {
     "base_uri": "https://localhost:8080/",
     "height": 282
    },
    "id": "3fb3e4ca-97da-40b7-b965-9aeddeaa366a",
    "outputId": "a6cc51cb-5067-4e41-9fad-c1f548f37f36"
   },
   "outputs": [],
   "source": [
    "# Plot loss history\n",
    "plt.plot(train_loss_history)\n",
    "plt.plot(test_loss_history)\n",
    "plt.yscale('log')\n",
    "plt.legend(['Train','Test'])"
   ]
  },
  {
   "cell_type": "code",
   "execution_count": null,
   "id": "f8537529-284c-4a06-b873-54c9aa304664",
   "metadata": {
    "id": "f8537529-284c-4a06-b873-54c9aa304664"
   },
   "outputs": [],
   "source": [
    "def calculate_R2(true, pred):\n",
    "    # Note: both true and pred should be numpy 1D-array, NOT torch tensors\n",
    "    true_mean = true.mean()\n",
    "    ss_tot = ((true-true_mean)**2).sum()\n",
    "    ss_res = ((true-pred)**2).sum()\n",
    "    return 1. - (ss_res/ss_tot)\n",
    "\n",
    "\n",
    "def plotR2(true, pred):\n",
    "    dim = true.shape[1]\n",
    "    fig = plt.figure(figsize=plt.figaspect(1./dim))\n",
    "    def helper(ax,index):\n",
    "        R2 = calculate_R2(true[:,index].squeeze().numpy(), pred[:,index].squeeze().detach().numpy())\n",
    "        R2 = np.round(R2,2)\n",
    "        ax.scatter(true[:,index], pred[:,index].detach())\n",
    "        ax.plot([true[:,index].min(),true[:,index].max()],[true[:,index].min(),true[:,index].max()],c='red')\n",
    "        ax.set_title('Label dim: {},  R2={}'.format(index,R2))\n",
    "        ax.set_xlabel('True'); ax.set_ylabel('Predicted')\n",
    "    for i in range(dim):\n",
    "        ax = fig.add_subplot(1, dim, i+1); helper(ax,i)\n",
    "    fig.tight_layout()"
   ]
  },
  {
   "cell_type": "code",
   "execution_count": null,
   "id": "4ed7fb47-07a3-4614-bcff-a9847cb12589",
   "metadata": {
    "id": "4ed7fb47-07a3-4614-bcff-a9847cb12589"
   },
   "outputs": [],
   "source": [
    "with torch.no_grad():\n",
    "    # Make prediction on test set\n",
    "    y_test_pred = model(x_test)"
   ]
  },
  {
   "cell_type": "code",
   "execution_count": null,
   "id": "e74199ef-a986-4e5d-84a8-ea2233b0ab77",
   "metadata": {
    "id": "e74199ef-a986-4e5d-84a8-ea2233b0ab77"
   },
   "outputs": [],
   "source": [
    "# Unnormalize all y-data\n",
    "# To-do\n",
    "y_train     = y_normalization.unnormalize(y_train)\n",
    "y_test      = y_normalization.unnormalize(y_test)\n",
    "y_test_pred = y_normalization.unnormalize(y_test_pred)"
   ]
  },
  {
   "cell_type": "code",
   "execution_count": null,
   "id": "25c73035-6647-4e17-8957-f2c4c574045c",
   "metadata": {
    "colab": {
     "base_uri": "https://localhost:8080/",
     "height": 297
    },
    "id": "25c73035-6647-4e17-8957-f2c4c574045c",
    "outputId": "8aa5c100-ee92-4a11-d382-e584303bc275"
   },
   "outputs": [],
   "source": [
    "# Visualize accuracy\n",
    "plotR2(y_test, y_test_pred)"
   ]
  },
  {
   "cell_type": "markdown",
   "id": "QFye-BdVBVLU",
   "metadata": {
    "id": "QFye-BdVBVLU"
   },
   "source": [
    "**COMPARE WITH GPR using SMT**\n"
   ]
  },
  {
   "cell_type": "code",
   "execution_count": null,
   "id": "bAtoaVDk_7lM",
   "metadata": {
    "colab": {
     "base_uri": "https://localhost:8080/",
     "height": 1000
    },
    "id": "bAtoaVDk_7lM",
    "outputId": "902fa2de-3bcf-430c-ae9f-ae65061d90ab"
   },
   "outputs": [],
   "source": [
    "from smt.surrogate_models import KRG\n",
    "\n",
    "# Load data from .csv file using pandas (Review the code yourself)\n",
    "path = './beam_exercise/data-3AB-train.csv'\n",
    "df = pd.read_csv(path)\n",
    "# Dataset is now stored in a Pandas Dataframe\n",
    "#df = pd.read_csv('data-3AB-train.csv')\n",
    "x_train = df[['F','L','E','I']].astype(np.float32).values\n",
    "# undersampling\n",
    "x_train=x_train[0::20]\n",
    "#print(x_train)\n",
    "y_train1 = df[['delta']].astype(np.float32).values\n",
    "y_train1=y_train1[0::20]\n",
    "y_train2 = df[['theta']].astype(np.float32).values\n",
    "y_train2=y_train2[0::20]\n",
    "\n",
    "path = './beam_exercise/data-3AB-test.csv'\n",
    "df = pd.read_csv(path)\n",
    "#df = pd.read_csv('data-3AB-test.csv')\n",
    "x_test = df[['F','L','E','I']].astype(np.float32).values\n",
    "y_test1 = df[['delta']].astype(np.float32).values\n",
    "y_test2 = df[['theta']].astype(np.float32).values\n",
    "\n",
    "sm = KRG(theta0=[1e-2], poly='constant', corr='squar_exp')\n",
    "#sm = KRG(theta0=[1e-2], poly='constant', corr='matern52')\n",
    "sm.set_training_values(x_train, y_train1)\n",
    "sm.train()\n",
    "\n",
    "\n",
    "# Prediction of the validation points\n",
    "y1 = sm.predict_values(x_test)\n",
    "#print('LS,  err: '+str(compute_rms_error(y,x_test,y_test)))\n",
    "\n",
    "# Plot prediction/true values\n",
    "\n",
    "fig = plt.figure()\n",
    "plt.plot(y_test1, y_test1, '-', label='$y_{true}$')\n",
    "plt.plot(y_test1, y1, 'r.', label='$\\hat{y}$')\n",
    "       \n",
    "plt.xlabel('$y_{true}$')\n",
    "plt.ylabel('$\\hat{y}$')\n",
    "        \n",
    "plt.legend(loc='upper left')\n",
    "#plt.title('LS model: validation of the prediction model')\n",
    "\n",
    "\n",
    "from sklearn.metrics import mean_squared_error, r2_score\n",
    "\n",
    "\n",
    "# The mean squared error\n",
    "print(\"Mean squared error: %f\"\n",
    "      % mean_squared_error(y_test1, y1))\n",
    "# Explained variance score: 1 is perfect prediction\n",
    "print('Variance score (R2): %f' % r2_score(y_test1, y1))\n",
    "\n",
    "\n",
    "#surrogate2\n",
    "sm = KRG(theta0=[1e-2], poly='constant', corr='squar_exp')\n",
    "#sm = KRG(theta0=[1e-2], poly='constant', corr='matern52')\n",
    "sm.set_training_values(x_train, y_train2)\n",
    "sm.train()\n",
    "\n",
    "\n",
    "# Prediction of the validation points\n",
    "y2 = sm.predict_values(x_test)\n",
    "#print('LS,  err: '+str(compute_rms_error(y,x_test,y_test)))"
   ]
  },
  {
   "cell_type": "code",
   "execution_count": null,
   "id": "d5973f87",
   "metadata": {},
   "outputs": [],
   "source": [
    "# Unnormalize all y-data\n",
    "#To-Do ( tip: to convert a numpy array into a pytorch tensor : torch.from_numpy())\n",
    "\n",
    "\n",
    "# Plot prediction/true values\n",
    "\n",
    "fig = plt.figure()\n",
    "plt.plot(y_test2, y_test2, '-', label='$y_{true}$')\n",
    "plt.plot(y_test2, y2, 'r.', label='$\\hat{y}$')\n",
    "       \n",
    "plt.xlabel('$y_{true}$')\n",
    "plt.ylabel('$\\hat{y}$')\n",
    "        \n",
    "plt.legend(loc='upper left')\n",
    "#plt.title('LS model: validation of the prediction model')\n",
    "\n",
    "# The mean squared error\n",
    "print(\"Mean squared error: %f\"\n",
    "      % mean_squared_error(y_test2, y2))\n",
    "# Explained variance score: 1 is perfect prediction\n",
    "print('Variance score (R2): %f' % r2_score(y_test2, y2))"
   ]
  },
  {
   "cell_type": "markdown",
   "id": "e2f52229-2471-4112-aa77-6a3a92b573df",
   "metadata": {
    "id": "e2f52229-2471-4112-aa77-6a3a92b573df",
    "tags": []
   },
   "source": [
    "-----\n",
    "\n",
    "# Constrained surrogate optimization"
   ]
  },
  {
   "cell_type": "markdown",
   "id": "909e0a70-50c1-42de-a611-fe6273f066a8",
   "metadata": {
    "id": "909e0a70-50c1-42de-a611-fe6273f066a8"
   },
   "source": [
    "Target: $\\delta=150 \\text{mm}$ ($=-0.0933$ after normalization)\n",
    "\n",
    "Given: $F = 2500 N$ ($=-0.6681$ after normalization)\n",
    "\n",
    "Find appropriate parameters: $L, E, I$ to achieve this value of target $\\delta$:\n",
    "\n",
    "### $$\\min_{L,E,I} (\\delta - \\delta_\\text{target})^2$$\n",
    "\n",
    "But normalized $L$ (also $E$, $I$) are constrained to certain bounds ($L\\in[-1,+1]$ after normalization).\n",
    "\n",
    "Therefore, set $L=\\text{tanh}(L_p)$, with $L_p\\in[-\\infty,+\\infty]$.\n",
    "\n",
    "Your job is to write the loss function\n",
    "\n",
    "Then, the problem becomes an unconstrianed optimization (which is easier to solve)\n",
    "\n",
    "### $$\\min_{L_p,E_p,I_p} (\\delta - \\delta_\\text{target})^2$$\n",
    "\n",
    "You can play with lr (learning rate), optimizer (why adam ?), activation function (why tanh? ReLU, Sigmoid ?)\n",
    "\n",
    "-----\n",
    "\n",
    "![image.png](attachment:f7258cd2-6625-4801-ba82-855a208252ec.png)\n"
   ]
  },
  {
   "cell_type": "code",
   "execution_count": null,
   "id": "0e727a31-8540-4dcc-9f38-75a48eb249e0",
   "metadata": {
    "id": "0e727a31-8540-4dcc-9f38-75a48eb249e0",
    "outputId": "8dd981dd-bf62-4809-e697-7f35881886e2"
   },
   "outputs": [],
   "source": [
    "given_F = -0.6681\n",
    "target_delta = -0.0933\n",
    "\n",
    "# Define L, E, I as scalar tensors with requires_grad=True and some initial guess\n",
    "L_p = torch.tensor([0.], requires_grad=True) \n",
    "E_p = torch.tensor([0.], requires_grad=True)\n",
    "I_p = torch.tensor([0.], requires_grad=True) \n",
    "\n",
    "# Define an empty list to store loss history\n",
    "loss_history = []\n",
    "\n",
    "# lr\n",
    "lr = 0.01\n",
    "\n",
    "# num_epochs\n",
    "num_epochs = 10000\n",
    "\n",
    "# optimizer\n",
    "optimizer = torch.optim.Adam([L_p,E_p,I_p], lr=lr)\n",
    "\n",
    "# define the tanh function\n",
    "tanh = torch.nn.Tanh()\n",
    "    \n",
    "# Lets write an optimization loop to improve the predictions and find the parameters\n",
    "for i in range(num_epochs):\n",
    "    \n",
    "    # Prepare input matrix\n",
    "    x = torch.zeros(1,4)\n",
    "    x[0,0] = given_F\n",
    "    x[0,1] = tanh(L_p)\n",
    "    x[0,2] = tanh(E_p)\n",
    "    x[0,3] = tanh(I_p)\n",
    "    \n",
    "    # predict y_pred\n",
    "    y_pred = nn(x)\n",
    "    \n",
    "    # Extract delta\n",
    "    delta = y_pred[0,0]\n",
    "    \n",
    "    # Compute loss as squared value of difference from target delta\n",
    "    loss = \n",
    "\n",
    "    # store the loss in a list\n",
    "    loss_history.append(loss.detach().item())\n",
    "\n",
    "    # compute gradient of loss relative to x using backward()\n",
    "    loss.backward()\n",
    "    \n",
    "    # optimizer step\n",
    "    optimizer.step()\n",
    "    \n",
    "    # Remove any existing gradients for next iteration\n",
    "    optimizer.zero_grad()\n",
    "\n",
    "# Plot loss history\n",
    "plt.plot(loss_history)\n",
    "plt.yscale('log')\n",
    "\n",
    "\n",
    "# Print L, E, I\n",
    "x = torch.zeros(1,4)\n",
    "x[0,0] = given_F\n",
    "x[0,1] = tanh(L_p)\n",
    "x[0,2] = tanh(E_p)\n",
    "x[0,3] = tanh(I_p)\n",
    "x = x_normalization.unnormalize(x)\n",
    "print('L:',x[0,1].detach().item())\n",
    "print('E:',x[0,2].detach().item())\n",
    "print('I:',x[0,3].detach().item())"
   ]
  },
  {
   "cell_type": "markdown",
   "id": "641373fd-fa8f-42c5-a368-e8ab17b55db1",
   "metadata": {
    "id": "641373fd-fa8f-42c5-a368-e8ab17b55db1"
   },
   "source": [
    "# Moral of the story: \n",
    "\n",
    "- ### Use any PRE-TRAINED neural network as just another torch-based function that is differentiable. \n",
    "\n",
    "- ### The computational graph is automatically propagated through the neural entwork by PyTorch. \n",
    "\n",
    "- ### The differentiability can be used for any kind of optimization or even, training another neural network (as you will see in the project). \n",
    "\n",
    "- ### Using GP with lots of close related data create problems to inverse the matrix of covariance. Undersampling is a simple solution in this case.\n",
    "\n"
   ]
  }
 ],
 "metadata": {
  "colab": {
   "provenance": []
  },
  "kernelspec": {
   "display_name": "venv_smt",
   "language": "python",
   "name": "python3"
  },
  "language_info": {
   "codemirror_mode": {
    "name": "ipython",
    "version": 3
   },
   "file_extension": ".py",
   "mimetype": "text/x-python",
   "name": "python",
   "nbconvert_exporter": "python",
   "pygments_lexer": "ipython3",
   "version": "3.10.12"
  },
  "nteract": {
   "version": "0.28.0"
  }
 },
 "nbformat": 4,
 "nbformat_minor": 5
}
